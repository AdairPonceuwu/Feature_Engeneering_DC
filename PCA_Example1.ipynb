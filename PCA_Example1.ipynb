{
 "cells": [
  {
   "cell_type": "code",
   "execution_count": 57,
   "id": "137b971a-5b97-49fa-9f20-1a44987a4166",
   "metadata": {},
   "outputs": [],
   "source": [
    "import sklearn\n",
    "import seaborn as sns\n",
    "import matplotlib.pyplot as plt\n",
    "import pandas as pd\n",
    "import numpy as np"
   ]
  },
  {
   "cell_type": "code",
   "execution_count": 58,
   "id": "2a8bf244-862d-486a-b081-a5bfc3208c47",
   "metadata": {},
   "outputs": [],
   "source": [
    "data = {\"mouse_1\": [10,6],\n",
    "       \"mouse_2\": [11,4],\n",
    "       \"mouse_3\": [8,5],\n",
    "       \"mouse_4\": [3,3],\n",
    "       \"mouse_5\": [1,2.8],\n",
    "       \"mouse_6\": [2,1]}"
   ]
  },
  {
   "cell_type": "code",
   "execution_count": 59,
   "id": "cc6fed0b-a493-4671-a747-123228d3f610",
   "metadata": {},
   "outputs": [],
   "source": [
    "df = pd.DataFrame(data)"
   ]
  },
  {
   "cell_type": "code",
   "execution_count": 60,
   "id": "31ba75f7-cd8d-400e-b421-8d706bf9961f",
   "metadata": {},
   "outputs": [],
   "source": [
    "df.index = [\"Gen_1\", \"Gen_2\"]"
   ]
  },
  {
   "cell_type": "code",
   "execution_count": 61,
   "id": "6c550755-6249-4bff-9cfc-3259842539c4",
   "metadata": {},
   "outputs": [
    {
     "data": {
      "text/html": [
       "<div>\n",
       "<style scoped>\n",
       "    .dataframe tbody tr th:only-of-type {\n",
       "        vertical-align: middle;\n",
       "    }\n",
       "\n",
       "    .dataframe tbody tr th {\n",
       "        vertical-align: top;\n",
       "    }\n",
       "\n",
       "    .dataframe thead th {\n",
       "        text-align: right;\n",
       "    }\n",
       "</style>\n",
       "<table border=\"1\" class=\"dataframe\">\n",
       "  <thead>\n",
       "    <tr style=\"text-align: right;\">\n",
       "      <th></th>\n",
       "      <th>mouse_1</th>\n",
       "      <th>mouse_2</th>\n",
       "      <th>mouse_3</th>\n",
       "      <th>mouse_4</th>\n",
       "      <th>mouse_5</th>\n",
       "      <th>mouse_6</th>\n",
       "    </tr>\n",
       "  </thead>\n",
       "  <tbody>\n",
       "    <tr>\n",
       "      <th>Gen_1</th>\n",
       "      <td>10</td>\n",
       "      <td>11</td>\n",
       "      <td>8</td>\n",
       "      <td>3</td>\n",
       "      <td>1.0</td>\n",
       "      <td>2</td>\n",
       "    </tr>\n",
       "    <tr>\n",
       "      <th>Gen_2</th>\n",
       "      <td>6</td>\n",
       "      <td>4</td>\n",
       "      <td>5</td>\n",
       "      <td>3</td>\n",
       "      <td>2.8</td>\n",
       "      <td>1</td>\n",
       "    </tr>\n",
       "  </tbody>\n",
       "</table>\n",
       "</div>"
      ],
      "text/plain": [
       "       mouse_1  mouse_2  mouse_3  mouse_4  mouse_5  mouse_6\n",
       "Gen_1       10       11        8        3      1.0        2\n",
       "Gen_2        6        4        5        3      2.8        1"
      ]
     },
     "execution_count": 61,
     "metadata": {},
     "output_type": "execute_result"
    }
   ],
   "source": [
    "df"
   ]
  },
  {
   "cell_type": "code",
   "execution_count": 62,
   "id": "5fafe66c-741c-4d99-b5c0-8896148582ff",
   "metadata": {},
   "outputs": [
    {
     "data": {
      "text/plain": [
       "<Axes: xlabel='Gen_1', ylabel='Gen_2'>"
      ]
     },
     "execution_count": 62,
     "metadata": {},
     "output_type": "execute_result"
    },
    {
     "data": {
      "image/png": "[encoded data removed]",
      "text/plain": [
       "<Figure size 640x480 with 1 Axes>"
      ]
     },
     "metadata": {},
     "output_type": "display_data"
    }
   ],
   "source": [
    "sns.scatterplot(x=df.loc['Gen_1'], y=df.loc['Gen_2'])"
   ]
  },
  {
   "cell_type": "code",
   "execution_count": 63,
   "id": "50279774-8c4c-4dbd-bfd0-358338ad3a4f",
   "metadata": {},
   "outputs": [],
   "source": [
    "from sklearn.decomposition import PCA"
   ]
  },
  {
   "cell_type": "code",
   "execution_count": 64,
   "id": "2861d021-36e3-4190-937a-7a3dd32ad9bb",
   "metadata": {},
   "outputs": [
    {
     "data": {
      "text/html": [
       "<div>\n",
       "<style scoped>\n",
       "    .dataframe tbody tr th:only-of-type {\n",
       "        vertical-align: middle;\n",
       "    }\n",
       "\n",
       "    .dataframe tbody tr th {\n",
       "        vertical-align: top;\n",
       "    }\n",
       "\n",
       "    .dataframe thead th {\n",
       "        text-align: right;\n",
       "    }\n",
       "</style>\n",
       "<table border=\"1\" class=\"dataframe\">\n",
       "  <thead>\n",
       "    <tr style=\"text-align: right;\">\n",
       "      <th></th>\n",
       "      <th>PC1</th>\n",
       "      <th>PC2</th>\n",
       "    </tr>\n",
       "  </thead>\n",
       "  <tbody>\n",
       "    <tr>\n",
       "      <th>0</th>\n",
       "      <td>-4.422669</td>\n",
       "      <td>2.603704e-16</td>\n",
       "    </tr>\n",
       "    <tr>\n",
       "      <th>1</th>\n",
       "      <td>4.422669</td>\n",
       "      <td>2.603704e-16</td>\n",
       "    </tr>\n",
       "  </tbody>\n",
       "</table>\n",
       "</div>"
      ],
      "text/plain": [
       "        PC1           PC2\n",
       "0 -4.422669  2.603704e-16\n",
       "1  4.422669  2.603704e-16"
      ]
     },
     "execution_count": 64,
     "metadata": {},
     "output_type": "execute_result"
    }
   ],
   "source": [
    "pca = PCA()\n",
    "X_pca = pca.fit_transform(df)\n",
    "\n",
    "component_names = [f\"PC{i+1}\" for i in range(X_pca.shape[1])]\n",
    "X_pca = pd.DataFrame(X_pca, columns=component_names)\n",
    "\n",
    "X_pca.head()"
   ]
  },
  {
   "cell_type": "code",
   "execution_count": 65,
   "id": "b83e7d97-e82b-4cf8-b1c1-2402d7ad4da4",
   "metadata": {},
   "outputs": [
    {
     "data": {
      "text/html": [
       "<div>\n",
       "<style scoped>\n",
       "    .dataframe tbody tr th:only-of-type {\n",
       "        vertical-align: middle;\n",
       "    }\n",
       "\n",
       "    .dataframe tbody tr th {\n",
       "        vertical-align: top;\n",
       "    }\n",
       "\n",
       "    .dataframe thead th {\n",
       "        text-align: right;\n",
       "    }\n",
       "</style>\n",
       "<table border=\"1\" class=\"dataframe\">\n",
       "  <thead>\n",
       "    <tr style=\"text-align: right;\">\n",
       "      <th></th>\n",
       "      <th>PC1</th>\n",
       "      <th>PC2</th>\n",
       "    </tr>\n",
       "  </thead>\n",
       "  <tbody>\n",
       "    <tr>\n",
       "      <th>mouse_1</th>\n",
       "      <td>-0.452216</td>\n",
       "      <td>-0.886997</td>\n",
       "    </tr>\n",
       "    <tr>\n",
       "      <th>mouse_2</th>\n",
       "      <td>-0.791377</td>\n",
       "      <td>0.369439</td>\n",
       "    </tr>\n",
       "    <tr>\n",
       "      <th>mouse_3</th>\n",
       "      <td>-0.339162</td>\n",
       "      <td>0.219245</td>\n",
       "    </tr>\n",
       "    <tr>\n",
       "      <th>mouse_4</th>\n",
       "      <td>0.000000</td>\n",
       "      <td>0.000000</td>\n",
       "    </tr>\n",
       "    <tr>\n",
       "      <th>mouse_5</th>\n",
       "      <td>0.203497</td>\n",
       "      <td>-0.088907</td>\n",
       "    </tr>\n",
       "    <tr>\n",
       "      <th>mouse_6</th>\n",
       "      <td>-0.113054</td>\n",
       "      <td>0.144149</td>\n",
       "    </tr>\n",
       "  </tbody>\n",
       "</table>\n",
       "</div>"
      ],
      "text/plain": [
       "              PC1       PC2\n",
       "mouse_1 -0.452216 -0.886997\n",
       "mouse_2 -0.791377  0.369439\n",
       "mouse_3 -0.339162  0.219245\n",
       "mouse_4  0.000000  0.000000\n",
       "mouse_5  0.203497 -0.088907\n",
       "mouse_6 -0.113054  0.144149"
      ]
     },
     "execution_count": 65,
     "metadata": {},
     "output_type": "execute_result"
    }
   ],
   "source": [
    "loadings = pd.DataFrame(\n",
    "    pca.components_.T,  # transpose the matrix of loadings\n",
    "    columns=component_names,  # so the columns are the principal components\n",
    "    index=df.columns,  # and the rows are the original features\n",
    ")\n",
    "loadings"
   ]
  },
  {
   "cell_type": "code",
   "execution_count": 66,
   "id": "60226f33-c5a4-448c-bb7d-97c5fdbdadd9",
   "metadata": {},
   "outputs": [],
   "source": [
    "#Mayor mouse_2 y mouse_3"
   ]
  },
  {
   "cell_type": "code",
   "execution_count": 67,
   "id": "c678c615-575e-4653-804e-937bef9a7ecf",
   "metadata": {},
   "outputs": [],
   "source": [
    "def plot_variance(pca, width=8, dpi=100):\n",
    "    # Create figure\n",
    "    fig, axs = plt.subplots(1, 2)\n",
    "    n = pca.n_components_\n",
    "    grid = np.arange(1, n + 1)\n",
    "    # Explained variance\n",
    "    evr = pca.explained_variance_ratio_\n",
    "    axs[0].bar(grid, evr)\n",
    "    axs[0].set(\n",
    "        xlabel=\"Component\", title=\"% Explained Variance\", ylim=(0.0, 1.0)\n",
    "    )\n",
    "    # Cumulative Variance\n",
    "    cv = np.cumsum(evr)\n",
    "    axs[1].plot(np.r_[0, grid], np.r_[0, cv], \"o-\")\n",
    "    axs[1].set(\n",
    "        xlabel=\"Component\", title=\"% Cumulative Variance\", ylim=(0.0, 1.0)\n",
    "    )\n",
    "    # Set up figure\n",
    "    fig.set(figwidth=8, dpi=100)\n",
    "    return axs"
   ]
  },
  {
   "cell_type": "code",
   "execution_count": 68,
   "id": "0d4103f9-9568-4f81-87ac-545b4e442189",
   "metadata": {},
   "outputs": [
    {
     "data": {
      "text/plain": [
       "array([<Axes: title={'center': '% Explained Variance'}, xlabel='Component'>,\n",
       "       <Axes: title={'center': '% Cumulative Variance'}, xlabel='Component'>],\n",
       "      dtype=object)"
      ]
     },
     "execution_count": 68,
     "metadata": {},
     "output_type": "execute_result"
    },
    {
     "data": {
      "image/png": "[encoded data removed]",
      "text/plain": [
       "<Figure size 800x480 with 2 Axes>"
      ]
     },
     "metadata": {},
     "output_type": "display_data"
    }
   ],
   "source": [
    "plot_variance(pca)"
   ]
  },
  {
   "cell_type": "code",
   "execution_count": 69,
   "id": "d23cb329-3653-494e-8176-bcf3a1a71c41",
   "metadata": {},
   "outputs": [],
   "source": [
    "df[\"new_feature\"] = df.mouse_2 / df.mouse_3\n",
    "df[\"new_feature2\"] = df.mouse_5 / df.mouse_6"
   ]
  },
  {
   "cell_type": "code",
   "execution_count": 70,
   "id": "4100feea-fc6a-4d74-b230-a46360b7713c",
   "metadata": {},
   "outputs": [
    {
     "data": {
      "text/html": [
       "<div>\n",
       "<style scoped>\n",
       "    .dataframe tbody tr th:only-of-type {\n",
       "        vertical-align: middle;\n",
       "    }\n",
       "\n",
       "    .dataframe tbody tr th {\n",
       "        vertical-align: top;\n",
       "    }\n",
       "\n",
       "    .dataframe thead th {\n",
       "        text-align: right;\n",
       "    }\n",
       "</style>\n",
       "<table border=\"1\" class=\"dataframe\">\n",
       "  <thead>\n",
       "    <tr style=\"text-align: right;\">\n",
       "      <th></th>\n",
       "      <th>mouse_1</th>\n",
       "      <th>mouse_2</th>\n",
       "      <th>mouse_3</th>\n",
       "      <th>mouse_4</th>\n",
       "      <th>mouse_5</th>\n",
       "      <th>mouse_6</th>\n",
       "      <th>new_feature</th>\n",
       "      <th>new_feature2</th>\n",
       "    </tr>\n",
       "  </thead>\n",
       "  <tbody>\n",
       "    <tr>\n",
       "      <th>Gen_1</th>\n",
       "      <td>10</td>\n",
       "      <td>11</td>\n",
       "      <td>8</td>\n",
       "      <td>3</td>\n",
       "      <td>1.0</td>\n",
       "      <td>2</td>\n",
       "      <td>1.375</td>\n",
       "      <td>0.5</td>\n",
       "    </tr>\n",
       "    <tr>\n",
       "      <th>Gen_2</th>\n",
       "      <td>6</td>\n",
       "      <td>4</td>\n",
       "      <td>5</td>\n",
       "      <td>3</td>\n",
       "      <td>2.8</td>\n",
       "      <td>1</td>\n",
       "      <td>0.800</td>\n",
       "      <td>2.8</td>\n",
       "    </tr>\n",
       "  </tbody>\n",
       "</table>\n",
       "</div>"
      ],
      "text/plain": [
       "       mouse_1  mouse_2  mouse_3  mouse_4  mouse_5  mouse_6  new_feature  \\\n",
       "Gen_1       10       11        8        3      1.0        2        1.375   \n",
       "Gen_2        6        4        5        3      2.8        1        0.800   \n",
       "\n",
       "       new_feature2  \n",
       "Gen_1           0.5  \n",
       "Gen_2           2.8  "
      ]
     },
     "execution_count": 70,
     "metadata": {},
     "output_type": "execute_result"
    }
   ],
   "source": [
    "df"
   ]
  },
  {
   "cell_type": "code",
   "execution_count": null,
   "id": "7b602a0a-1980-4834-b999-8cf3e935f361",
   "metadata": {},
   "outputs": [],
   "source": []
  }
 ],
 "metadata": {
  "kernelspec": {
   "display_name": "Python 3 (ipykernel)",
   "language": "python",
   "name": "python3"
  },
  "language_info": {
   "codemirror_mode": {
    "name": "ipython",
    "version": 3
   },
   "file_extension": ".py",
   "mimetype": "text/x-python",
   "name": "python",
   "nbconvert_exporter": "python",
   "pygments_lexer": "ipython3",
   "version": "3.12.1"
  }
 },
 "nbformat": 4,
 "nbformat_minor": 5
}
